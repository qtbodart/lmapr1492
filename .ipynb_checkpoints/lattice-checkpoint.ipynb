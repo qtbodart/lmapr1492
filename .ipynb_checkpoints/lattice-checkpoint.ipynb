{
 "cells": [
  {
   "cell_type": "code",
   "execution_count": 50,
   "id": "92ae6827",
   "metadata": {},
   "outputs": [],
   "source": [
    "###############\n",
    "### IMPORTS ###\n",
    "###############\n",
    "\n",
    "import numpy as np\n",
    "from mp_api.client import MPRester\n",
    "from pymatgen.symmetry.analyzer import SpacegroupAnalyzer\n",
    "from lmapr1492 import *\n",
    "from jupyter_jsmol.pymatgen import quick_view"
   ]
  },
  {
   "cell_type": "code",
   "execution_count": 51,
   "id": "bc18d6f9",
   "metadata": {},
   "outputs": [
    {
     "data": {
      "application/vnd.jupyter.widget-view+json": {
       "model_id": "631b9aef9b414a6c86023c0ad95aac2c",
       "version_major": 2,
       "version_minor": 0
      },
      "text/plain": [
       "Retrieving MaterialsDoc documents:   0%|          | 0/1 [00:00<?, ?it/s]"
      ]
     },
     "metadata": {},
     "output_type": "display_data"
    }
   ],
   "source": [
    "###################\n",
    "### MP DOWNLOAD ###\n",
    "###################\n",
    "\n",
    "mp_key = \"cLLBrCi8gU7SqhnPKS4NJqSKB4Y6d0gD\"\n",
    "mp_id = \"mp-23009\"\n",
    "\n",
    "with MPRester(mp_key) as m: structure = m.get_structure_by_material_id(mp_id)\n",
    "    \n",
    "sga = SpacegroupAnalyzer(structure)"
   ]
  },
  {
   "cell_type": "code",
   "execution_count": 52,
   "id": "bef37b4c",
   "metadata": {},
   "outputs": [
    {
     "data": {
      "application/vnd.jupyter.widget-view+json": {
       "model_id": "84daa194679d49a6bfde11b43f671eb4",
       "version_major": 2,
       "version_minor": 0
      },
      "text/plain": [
       "JsmolView(layout=Layout(align_self='stretch', height='400px'))"
      ]
     },
     "metadata": {},
     "output_type": "display_data"
    }
   ],
   "source": [
    "#####################\n",
    "### VISUALISATION ###\n",
    "#####################\n",
    "\n",
    "view = quick_view(structure, \"packed\")\n",
    "display(view)"
   ]
  },
  {
   "cell_type": "code",
   "execution_count": 58,
   "id": "db82eefd",
   "metadata": {},
   "outputs": [
    {
     "name": "stdout",
     "output_type": "stream",
     "text": [
      "Vecteurs de base du réseau direct (en Å) :\n",
      "3.5892626600 0.0037179100 6.2292140400\n",
      "\n",
      "1.6690809300 3.1775761700 6.2292140400\n",
      "\n",
      "0.0061452800 0.0037179100 7.1892892400\n",
      "\n"
     ]
    }
   ],
   "source": [
    "#####################\n",
    "### RESEAU DIRECT ###\n",
    "#####################\n",
    "\n",
    "print(\"Vecteurs de base du réseau direct (en Å) :\")\n",
    "for vector in structure.lattice.matrix: print(\" \".join([\"{:.10f}\".format(e) for e in vector]), end=\"\\n\\n\")"
   ]
  },
  {
   "cell_type": "code",
   "execution_count": 54,
   "id": "5ce59290",
   "metadata": {},
   "outputs": [
    {
     "name": "stdout",
     "output_type": "stream",
     "text": [
      "Vecteurs de base du réseau réciproque (en Å⁻¹) :\n",
      "1.7532785152 -0.9189357860 -0.0010234484\n",
      "\n",
      "-0.0002742291 1.9795019887 -0.0010234565\n",
      "\n",
      "-1.5189038229 -0.9189356082 0.8757382971\n",
      "\n"
     ]
    }
   ],
   "source": [
    "#########################\n",
    "### RESEAU RECIPROQUE ###\n",
    "#########################\n",
    "\n",
    "print(\"Vecteurs de base du réseau réciproque (en Å⁻¹) :\")\n",
    "for vector in structure.lattice.reciprocal_lattice.matrix: print(\" \".join([\"{:.10f}\".format(e) for e in vector]), end=\"\\n\\n\")"
   ]
  },
  {
   "cell_type": "code",
   "execution_count": 55,
   "id": "fc14afa4",
   "metadata": {},
   "outputs": [
    {
     "name": "stdout",
     "output_type": "stream",
     "text": [
      "\n",
      "Type de maille : rhombohedral\n"
     ]
    }
   ],
   "source": [
    "######################\n",
    "### TYPE DE MAILLE ###\n",
    "######################\n",
    "\n",
    "print(\"\\nType de maille :\", sga.get_lattice_type())"
   ]
  },
  {
   "cell_type": "code",
   "execution_count": 56,
   "id": "1ff7ebe4",
   "metadata": {},
   "outputs": [
    {
     "name": "stdout",
     "output_type": "stream",
     "text": [
      "\n",
      "Système cristallin : trigonal\n"
     ]
    }
   ],
   "source": [
    "##########################\n",
    "### SYSTEME CRYSTALLIN ###\n",
    "##########################\n",
    "\n",
    "print(\"\\nSystème cristallin :\", sga.get_crystal_system())"
   ]
  },
  {
   "cell_type": "code",
   "execution_count": 57,
   "id": "de8d37d6",
   "metadata": {},
   "outputs": [
    {
     "name": "stdout",
     "output_type": "stream",
     "text": [
      "\n",
      "Groupe ponctuel : -3m\n"
     ]
    }
   ],
   "source": [
    "#######################\n",
    "### GROUPE PONCTUEL ###\n",
    "#######################\n",
    "\n",
    "print(\"\\nGroupe ponctuel :\", sga.get_point_group_symbol())"
   ]
  }
 ],
 "metadata": {
  "kernelspec": {
   "display_name": "Python 3 (ipykernel)",
   "language": "python",
   "name": "python3"
  },
  "language_info": {
   "codemirror_mode": {
    "name": "ipython",
    "version": 3
   },
   "file_extension": ".py",
   "mimetype": "text/x-python",
   "name": "python",
   "nbconvert_exporter": "python",
   "pygments_lexer": "ipython3",
   "version": "3.9.13"
  }
 },
 "nbformat": 4,
 "nbformat_minor": 5
}
